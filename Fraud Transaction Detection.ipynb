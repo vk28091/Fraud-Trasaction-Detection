{
 "cells": [
  {
   "cell_type": "markdown",
   "id": "a68ee72a",
   "metadata": {},
   "source": [
    "### Bussiness Problem Understanding:"
   ]
  },
  {
   "cell_type": "markdown",
   "id": "c8d9b01d",
   "metadata": {},
   "source": [
    "***To find out the fradulent trasaction in banking trasaction***\n"
   ]
  },
  {
   "cell_type": "code",
   "execution_count": 43,
   "id": "2e64f0aa",
   "metadata": {},
   "outputs": [],
   "source": [
    "import pandas as pd\n",
    "import numpy as np\n",
    "import matplotlib.pyplot as plt\n",
    "import seaborn as sns     "
   ]
  },
  {
   "cell_type": "code",
   "execution_count": 44,
   "id": "499c11ee",
   "metadata": {},
   "outputs": [],
   "source": [
    "import warnings\n",
    "warnings.simplefilter(\"ignore\")"
   ]
  },
  {
   "cell_type": "code",
   "execution_count": 45,
   "id": "850c7956",
   "metadata": {},
   "outputs": [],
   "source": [
    "df=pd.read_csv(\"Fraud.csv\")"
   ]
  },
  {
   "cell_type": "markdown",
   "id": "6456c4c0",
   "metadata": {},
   "source": [
    "## Data Understanding:\n",
    "step - maps a unit of time in the real world. In this case 1 step is 1 hour of time. Total steps 744 (30 days simulation).\n",
    "\n",
    "type - CASH-IN, CASH-OUT, DEBIT, PAYMENT and TRANSFER.\n",
    "\n",
    "amount - amount of the transaction in local currency.\n",
    "\n",
    "nameOrig - customer who started the transaction\n",
    "\n",
    "oldbalanceOrg - initial balance before the transaction\n",
    "\n",
    "newbalanceOrig - new balance after the transaction\n",
    "\n",
    "nameDest - customer who is the recipient of the transaction\n",
    "\n",
    "oldbalanceDest - initial balance recipient before the transaction. Note that there is not information for customers that start with M (Merchants).\n",
    "\n",
    "newbalanceDest - new balance recipient after the transaction. Note that there is not information for customers that start with M (Merchants).\n",
    "\n",
    "isFraud - This is the transactions made by the fraudulent agents inside the simulation. In this specific dataset the fraudulent behavior of the agents aims to profit by taking control or customers accounts and try to empty the funds by transferring to another account and then cashing out of the system.\n",
    "\n",
    "isFlaggedFraud - The business model aims to control massive transfers from one account to another and flags illegal attempts. An illegal attempt in this dataset is an attempt to transfer more than 200.000 in a single transaction."
   ]
  },
  {
   "cell_type": "code",
   "execution_count": 46,
   "id": "e82d9625",
   "metadata": {},
   "outputs": [
    {
     "data": {
      "text/html": [
       "<div>\n",
       "<style scoped>\n",
       "    .dataframe tbody tr th:only-of-type {\n",
       "        vertical-align: middle;\n",
       "    }\n",
       "\n",
       "    .dataframe tbody tr th {\n",
       "        vertical-align: top;\n",
       "    }\n",
       "\n",
       "    .dataframe thead th {\n",
       "        text-align: right;\n",
       "    }\n",
       "</style>\n",
       "<table border=\"1\" class=\"dataframe\">\n",
       "  <thead>\n",
       "    <tr style=\"text-align: right;\">\n",
       "      <th></th>\n",
       "      <th>step</th>\n",
       "      <th>type</th>\n",
       "      <th>amount</th>\n",
       "      <th>nameOrig</th>\n",
       "      <th>oldbalanceOrg</th>\n",
       "      <th>newbalanceOrig</th>\n",
       "      <th>nameDest</th>\n",
       "      <th>oldbalanceDest</th>\n",
       "      <th>newbalanceDest</th>\n",
       "      <th>isFraud</th>\n",
       "      <th>isFlaggedFraud</th>\n",
       "    </tr>\n",
       "  </thead>\n",
       "  <tbody>\n",
       "    <tr>\n",
       "      <th>0</th>\n",
       "      <td>1</td>\n",
       "      <td>PAYMENT</td>\n",
       "      <td>9839.64</td>\n",
       "      <td>C1231006815</td>\n",
       "      <td>170136.0</td>\n",
       "      <td>160296.36</td>\n",
       "      <td>M1979787155</td>\n",
       "      <td>0.0</td>\n",
       "      <td>0.0</td>\n",
       "      <td>0</td>\n",
       "      <td>0</td>\n",
       "    </tr>\n",
       "    <tr>\n",
       "      <th>1</th>\n",
       "      <td>1</td>\n",
       "      <td>PAYMENT</td>\n",
       "      <td>1864.28</td>\n",
       "      <td>C1666544295</td>\n",
       "      <td>21249.0</td>\n",
       "      <td>19384.72</td>\n",
       "      <td>M2044282225</td>\n",
       "      <td>0.0</td>\n",
       "      <td>0.0</td>\n",
       "      <td>0</td>\n",
       "      <td>0</td>\n",
       "    </tr>\n",
       "    <tr>\n",
       "      <th>2</th>\n",
       "      <td>1</td>\n",
       "      <td>TRANSFER</td>\n",
       "      <td>181.00</td>\n",
       "      <td>C1305486145</td>\n",
       "      <td>181.0</td>\n",
       "      <td>0.00</td>\n",
       "      <td>C553264065</td>\n",
       "      <td>0.0</td>\n",
       "      <td>0.0</td>\n",
       "      <td>1</td>\n",
       "      <td>0</td>\n",
       "    </tr>\n",
       "    <tr>\n",
       "      <th>3</th>\n",
       "      <td>1</td>\n",
       "      <td>CASH_OUT</td>\n",
       "      <td>181.00</td>\n",
       "      <td>C840083671</td>\n",
       "      <td>181.0</td>\n",
       "      <td>0.00</td>\n",
       "      <td>C38997010</td>\n",
       "      <td>21182.0</td>\n",
       "      <td>0.0</td>\n",
       "      <td>1</td>\n",
       "      <td>0</td>\n",
       "    </tr>\n",
       "    <tr>\n",
       "      <th>4</th>\n",
       "      <td>1</td>\n",
       "      <td>PAYMENT</td>\n",
       "      <td>11668.14</td>\n",
       "      <td>C2048537720</td>\n",
       "      <td>41554.0</td>\n",
       "      <td>29885.86</td>\n",
       "      <td>M1230701703</td>\n",
       "      <td>0.0</td>\n",
       "      <td>0.0</td>\n",
       "      <td>0</td>\n",
       "      <td>0</td>\n",
       "    </tr>\n",
       "  </tbody>\n",
       "</table>\n",
       "</div>"
      ],
      "text/plain": [
       "   step      type    amount     nameOrig  oldbalanceOrg  newbalanceOrig  \\\n",
       "0     1   PAYMENT   9839.64  C1231006815       170136.0       160296.36   \n",
       "1     1   PAYMENT   1864.28  C1666544295        21249.0        19384.72   \n",
       "2     1  TRANSFER    181.00  C1305486145          181.0            0.00   \n",
       "3     1  CASH_OUT    181.00   C840083671          181.0            0.00   \n",
       "4     1   PAYMENT  11668.14  C2048537720        41554.0        29885.86   \n",
       "\n",
       "      nameDest  oldbalanceDest  newbalanceDest  isFraud  isFlaggedFraud  \n",
       "0  M1979787155             0.0             0.0        0               0  \n",
       "1  M2044282225             0.0             0.0        0               0  \n",
       "2   C553264065             0.0             0.0        1               0  \n",
       "3    C38997010         21182.0             0.0        1               0  \n",
       "4  M1230701703             0.0             0.0        0               0  "
      ]
     },
     "execution_count": 46,
     "metadata": {},
     "output_type": "execute_result"
    }
   ],
   "source": [
    "df.head()"
   ]
  },
  {
   "cell_type": "code",
   "execution_count": 47,
   "id": "553d371f",
   "metadata": {},
   "outputs": [
    {
     "name": "stdout",
     "output_type": "stream",
     "text": [
      "<class 'pandas.core.frame.DataFrame'>\n",
      "RangeIndex: 6362620 entries, 0 to 6362619\n",
      "Data columns (total 11 columns):\n",
      " #   Column          Dtype  \n",
      "---  ------          -----  \n",
      " 0   step            int64  \n",
      " 1   type            object \n",
      " 2   amount          float64\n",
      " 3   nameOrig        object \n",
      " 4   oldbalanceOrg   float64\n",
      " 5   newbalanceOrig  float64\n",
      " 6   nameDest        object \n",
      " 7   oldbalanceDest  float64\n",
      " 8   newbalanceDest  float64\n",
      " 9   isFraud         int64  \n",
      " 10  isFlaggedFraud  int64  \n",
      "dtypes: float64(5), int64(3), object(3)\n",
      "memory usage: 534.0+ MB\n"
     ]
    }
   ],
   "source": [
    "df.info()"
   ]
  },
  {
   "cell_type": "code",
   "execution_count": 48,
   "id": "dd522017",
   "metadata": {},
   "outputs": [
    {
     "data": {
      "text/plain": [
       "step              0\n",
       "type              0\n",
       "amount            0\n",
       "nameOrig          0\n",
       "oldbalanceOrg     0\n",
       "newbalanceOrig    0\n",
       "nameDest          0\n",
       "oldbalanceDest    0\n",
       "newbalanceDest    0\n",
       "isFraud           0\n",
       "isFlaggedFraud    0\n",
       "dtype: int64"
      ]
     },
     "execution_count": 48,
     "metadata": {},
     "output_type": "execute_result"
    }
   ],
   "source": [
    "df.isnull().sum()"
   ]
  },
  {
   "cell_type": "code",
   "execution_count": 49,
   "id": "a5ca2862",
   "metadata": {},
   "outputs": [
    {
     "data": {
      "text/plain": [
       "CASH_OUT    2237500\n",
       "PAYMENT     2151495\n",
       "CASH_IN     1399284\n",
       "TRANSFER     532909\n",
       "DEBIT         41432\n",
       "Name: type, dtype: int64"
      ]
     },
     "execution_count": 49,
     "metadata": {},
     "output_type": "execute_result"
    }
   ],
   "source": [
    "df[\"type\"].value_counts()"
   ]
  },
  {
   "cell_type": "code",
   "execution_count": 50,
   "id": "8f511a09",
   "metadata": {},
   "outputs": [],
   "source": [
    "df.drop(columns=[\"step\",\"nameOrig\",\"nameDest\"],inplace=True)"
   ]
  },
  {
   "cell_type": "code",
   "execution_count": 51,
   "id": "bc1c4ab3",
   "metadata": {},
   "outputs": [
    {
     "data": {
      "text/html": [
       "<div>\n",
       "<style scoped>\n",
       "    .dataframe tbody tr th:only-of-type {\n",
       "        vertical-align: middle;\n",
       "    }\n",
       "\n",
       "    .dataframe tbody tr th {\n",
       "        vertical-align: top;\n",
       "    }\n",
       "\n",
       "    .dataframe thead th {\n",
       "        text-align: right;\n",
       "    }\n",
       "</style>\n",
       "<table border=\"1\" class=\"dataframe\">\n",
       "  <thead>\n",
       "    <tr style=\"text-align: right;\">\n",
       "      <th></th>\n",
       "      <th>type</th>\n",
       "      <th>amount</th>\n",
       "      <th>oldbalanceOrg</th>\n",
       "      <th>newbalanceOrig</th>\n",
       "      <th>oldbalanceDest</th>\n",
       "      <th>newbalanceDest</th>\n",
       "      <th>isFraud</th>\n",
       "      <th>isFlaggedFraud</th>\n",
       "    </tr>\n",
       "  </thead>\n",
       "  <tbody>\n",
       "    <tr>\n",
       "      <th>0</th>\n",
       "      <td>PAYMENT</td>\n",
       "      <td>9839.64</td>\n",
       "      <td>170136.0</td>\n",
       "      <td>160296.36</td>\n",
       "      <td>0.0</td>\n",
       "      <td>0.0</td>\n",
       "      <td>0</td>\n",
       "      <td>0</td>\n",
       "    </tr>\n",
       "    <tr>\n",
       "      <th>1</th>\n",
       "      <td>PAYMENT</td>\n",
       "      <td>1864.28</td>\n",
       "      <td>21249.0</td>\n",
       "      <td>19384.72</td>\n",
       "      <td>0.0</td>\n",
       "      <td>0.0</td>\n",
       "      <td>0</td>\n",
       "      <td>0</td>\n",
       "    </tr>\n",
       "    <tr>\n",
       "      <th>2</th>\n",
       "      <td>TRANSFER</td>\n",
       "      <td>181.00</td>\n",
       "      <td>181.0</td>\n",
       "      <td>0.00</td>\n",
       "      <td>0.0</td>\n",
       "      <td>0.0</td>\n",
       "      <td>1</td>\n",
       "      <td>0</td>\n",
       "    </tr>\n",
       "    <tr>\n",
       "      <th>3</th>\n",
       "      <td>CASH_OUT</td>\n",
       "      <td>181.00</td>\n",
       "      <td>181.0</td>\n",
       "      <td>0.00</td>\n",
       "      <td>21182.0</td>\n",
       "      <td>0.0</td>\n",
       "      <td>1</td>\n",
       "      <td>0</td>\n",
       "    </tr>\n",
       "    <tr>\n",
       "      <th>4</th>\n",
       "      <td>PAYMENT</td>\n",
       "      <td>11668.14</td>\n",
       "      <td>41554.0</td>\n",
       "      <td>29885.86</td>\n",
       "      <td>0.0</td>\n",
       "      <td>0.0</td>\n",
       "      <td>0</td>\n",
       "      <td>0</td>\n",
       "    </tr>\n",
       "  </tbody>\n",
       "</table>\n",
       "</div>"
      ],
      "text/plain": [
       "       type    amount  oldbalanceOrg  newbalanceOrig  oldbalanceDest  \\\n",
       "0   PAYMENT   9839.64       170136.0       160296.36             0.0   \n",
       "1   PAYMENT   1864.28        21249.0        19384.72             0.0   \n",
       "2  TRANSFER    181.00          181.0            0.00             0.0   \n",
       "3  CASH_OUT    181.00          181.0            0.00         21182.0   \n",
       "4   PAYMENT  11668.14        41554.0        29885.86             0.0   \n",
       "\n",
       "   newbalanceDest  isFraud  isFlaggedFraud  \n",
       "0             0.0        0               0  \n",
       "1             0.0        0               0  \n",
       "2             0.0        1               0  \n",
       "3             0.0        1               0  \n",
       "4             0.0        0               0  "
      ]
     },
     "execution_count": 51,
     "metadata": {},
     "output_type": "execute_result"
    }
   ],
   "source": [
    "df.head()"
   ]
  },
  {
   "cell_type": "code",
   "execution_count": 52,
   "id": "e12f7bc1",
   "metadata": {},
   "outputs": [
    {
     "data": {
      "text/plain": [
       "<AxesSubplot:>"
      ]
     },
     "execution_count": 52,
     "metadata": {},
     "output_type": "execute_result"
    },
    {
     "data": {
      "image/png": "[encoded data removed]",
      "text/plain": [
       "<Figure size 640x480 with 1 Axes>"
      ]
     },
     "metadata": {},
     "output_type": "display_data"
    }
   ],
   "source": [
    "df[[\"amount\",\"oldbalanceOrg\",\"newbalanceOrig\",\"oldbalanceDest\",\"newbalanceDest\"]].plot(kind=\"box\")\n"
   ]
  },
  {
   "cell_type": "code",
   "execution_count": 53,
   "id": "034a7af1",
   "metadata": {},
   "outputs": [
    {
     "data": {
      "text/plain": [
       "30.99394948249038"
      ]
     },
     "execution_count": 53,
     "metadata": {},
     "output_type": "execute_result"
    }
   ],
   "source": [
    "df[\"amount\"].skew()"
   ]
  },
  {
   "cell_type": "code",
   "execution_count": 54,
   "id": "b7d1211d",
   "metadata": {},
   "outputs": [
    {
     "data": {
      "text/plain": [
       "-0.01897116882745448"
      ]
     },
     "execution_count": 54,
     "metadata": {},
     "output_type": "execute_result"
    }
   ],
   "source": [
    "from scipy import stats\n",
    "df[\"box_amount\"],param=stats.boxcox(df.amount+0.01)\n",
    "df[\"box_amount\"].skew()"
   ]
  },
  {
   "cell_type": "code",
   "execution_count": 55,
   "id": "4ed8449d",
   "metadata": {},
   "outputs": [
    {
     "data": {
      "text/plain": [
       "5.249136420603121"
      ]
     },
     "execution_count": 55,
     "metadata": {},
     "output_type": "execute_result"
    }
   ],
   "source": [
    "df[\"oldbalanceOrg\"].skew()"
   ]
  },
  {
   "cell_type": "code",
   "execution_count": 56,
   "id": "31d93843",
   "metadata": {},
   "outputs": [],
   "source": [
    "from scipy import stats\n",
    "df[\"box_oldbalanceOrg\"],param=stats.boxcox(df.oldbalanceOrg+0.01)\n"
   ]
  },
  {
   "cell_type": "code",
   "execution_count": 57,
   "id": "4764af81",
   "metadata": {},
   "outputs": [
    {
     "data": {
      "text/plain": [
       "-0.2040328105478424"
      ]
     },
     "execution_count": 57,
     "metadata": {},
     "output_type": "execute_result"
    }
   ],
   "source": [
    "df[\"box_oldbalanceOrg\"].skew()"
   ]
  },
  {
   "cell_type": "code",
   "execution_count": 58,
   "id": "63bda037",
   "metadata": {},
   "outputs": [
    {
     "data": {
      "text/plain": [
       "5.176884001159233"
      ]
     },
     "execution_count": 58,
     "metadata": {},
     "output_type": "execute_result"
    }
   ],
   "source": [
    "df[\"newbalanceOrig\"].skew()"
   ]
  },
  {
   "cell_type": "code",
   "execution_count": 59,
   "id": "fbbfcb54",
   "metadata": {},
   "outputs": [],
   "source": [
    "from scipy import stats\n",
    "df[\"box_newbalanceOrig\"],param=stats.boxcox(df.newbalanceOrig+0.01)\n"
   ]
  },
  {
   "cell_type": "code",
   "execution_count": 60,
   "id": "54b3aefc",
   "metadata": {},
   "outputs": [
    {
     "data": {
      "text/plain": [
       "0.3077416938839443"
      ]
     },
     "execution_count": 60,
     "metadata": {},
     "output_type": "execute_result"
    }
   ],
   "source": [
    "df[\"box_newbalanceOrig\"].skew()"
   ]
  },
  {
   "cell_type": "code",
   "execution_count": 61,
   "id": "2ebac54b",
   "metadata": {},
   "outputs": [
    {
     "data": {
      "text/plain": [
       "19.921757915791062"
      ]
     },
     "execution_count": 61,
     "metadata": {},
     "output_type": "execute_result"
    }
   ],
   "source": [
    "df[\"oldbalanceDest\"].skew()"
   ]
  },
  {
   "cell_type": "code",
   "execution_count": 62,
   "id": "0f69336a",
   "metadata": {},
   "outputs": [
    {
     "data": {
      "text/plain": [
       "-0.21127780463803456"
      ]
     },
     "execution_count": 62,
     "metadata": {},
     "output_type": "execute_result"
    }
   ],
   "source": [
    "from scipy import stats\n",
    "df[\"box_oldbalanceDest\"],param=stats.boxcox(df.oldbalanceDest+0.01)\n",
    "df[\"box_oldbalanceDest\"].skew()"
   ]
  },
  {
   "cell_type": "code",
   "execution_count": 63,
   "id": "fe6da009",
   "metadata": {},
   "outputs": [
    {
     "data": {
      "text/plain": [
       "19.352302057660165"
      ]
     },
     "execution_count": 63,
     "metadata": {},
     "output_type": "execute_result"
    }
   ],
   "source": [
    "df[\"newbalanceDest\"].skew()"
   ]
  },
  {
   "cell_type": "code",
   "execution_count": 64,
   "id": "bc47e195",
   "metadata": {},
   "outputs": [],
   "source": [
    "df[\"box_newbalanceDest\"],param=stats.boxcox(df.newbalanceDest+0.01)"
   ]
  },
  {
   "cell_type": "code",
   "execution_count": 65,
   "id": "cf7bd0f4",
   "metadata": {},
   "outputs": [
    {
     "data": {
      "text/plain": [
       "-0.34336454885234335"
      ]
     },
     "execution_count": 65,
     "metadata": {},
     "output_type": "execute_result"
    }
   ],
   "source": [
    "df[\"box_newbalanceDest\"].skew()"
   ]
  },
  {
   "cell_type": "code",
   "execution_count": 66,
   "id": "8aefe6e1",
   "metadata": {},
   "outputs": [
    {
     "data": {
      "text/html": [
       "<div>\n",
       "<style scoped>\n",
       "    .dataframe tbody tr th:only-of-type {\n",
       "        vertical-align: middle;\n",
       "    }\n",
       "\n",
       "    .dataframe tbody tr th {\n",
       "        vertical-align: top;\n",
       "    }\n",
       "\n",
       "    .dataframe thead th {\n",
       "        text-align: right;\n",
       "    }\n",
       "</style>\n",
       "<table border=\"1\" class=\"dataframe\">\n",
       "  <thead>\n",
       "    <tr style=\"text-align: right;\">\n",
       "      <th></th>\n",
       "      <th>type</th>\n",
       "      <th>amount</th>\n",
       "      <th>oldbalanceOrg</th>\n",
       "      <th>newbalanceOrig</th>\n",
       "      <th>oldbalanceDest</th>\n",
       "      <th>newbalanceDest</th>\n",
       "      <th>isFraud</th>\n",
       "      <th>isFlaggedFraud</th>\n",
       "      <th>box_amount</th>\n",
       "      <th>box_oldbalanceOrg</th>\n",
       "      <th>box_newbalanceOrig</th>\n",
       "      <th>box_oldbalanceDest</th>\n",
       "      <th>box_newbalanceDest</th>\n",
       "    </tr>\n",
       "  </thead>\n",
       "  <tbody>\n",
       "    <tr>\n",
       "      <th>0</th>\n",
       "      <td>PAYMENT</td>\n",
       "      <td>9839.64</td>\n",
       "      <td>170136.0</td>\n",
       "      <td>160296.36</td>\n",
       "      <td>0.0</td>\n",
       "      <td>0.0</td>\n",
       "      <td>0</td>\n",
       "      <td>0</td>\n",
       "      <td>16.100764</td>\n",
       "      <td>16.813203</td>\n",
       "      <td>8.782110</td>\n",
       "      <td>-4.236069</td>\n",
       "      <td>-4.014057</td>\n",
       "    </tr>\n",
       "    <tr>\n",
       "      <th>1</th>\n",
       "      <td>PAYMENT</td>\n",
       "      <td>1864.28</td>\n",
       "      <td>21249.0</td>\n",
       "      <td>19384.72</td>\n",
       "      <td>0.0</td>\n",
       "      <td>0.0</td>\n",
       "      <td>0</td>\n",
       "      <td>0</td>\n",
       "      <td>11.839701</td>\n",
       "      <td>13.099428</td>\n",
       "      <td>7.621837</td>\n",
       "      <td>-4.236069</td>\n",
       "      <td>-4.014057</td>\n",
       "    </tr>\n",
       "    <tr>\n",
       "      <th>2</th>\n",
       "      <td>TRANSFER</td>\n",
       "      <td>181.00</td>\n",
       "      <td>181.0</td>\n",
       "      <td>0.00</td>\n",
       "      <td>0.0</td>\n",
       "      <td>0.0</td>\n",
       "      <td>1</td>\n",
       "      <td>0</td>\n",
       "      <td>7.060007</td>\n",
       "      <td>5.979102</td>\n",
       "      <td>-5.239437</td>\n",
       "      <td>-4.236069</td>\n",
       "      <td>-4.014057</td>\n",
       "    </tr>\n",
       "    <tr>\n",
       "      <th>3</th>\n",
       "      <td>CASH_OUT</td>\n",
       "      <td>181.00</td>\n",
       "      <td>181.0</td>\n",
       "      <td>0.00</td>\n",
       "      <td>21182.0</td>\n",
       "      <td>0.0</td>\n",
       "      <td>1</td>\n",
       "      <td>0</td>\n",
       "      <td>7.060007</td>\n",
       "      <td>5.979102</td>\n",
       "      <td>-5.239437</td>\n",
       "      <td>12.031806</td>\n",
       "      <td>-4.014057</td>\n",
       "    </tr>\n",
       "    <tr>\n",
       "      <th>4</th>\n",
       "      <td>PAYMENT</td>\n",
       "      <td>11668.14</td>\n",
       "      <td>41554.0</td>\n",
       "      <td>29885.86</td>\n",
       "      <td>0.0</td>\n",
       "      <td>0.0</td>\n",
       "      <td>0</td>\n",
       "      <td>0</td>\n",
       "      <td>16.584003</td>\n",
       "      <td>14.252640</td>\n",
       "      <td>7.870681</td>\n",
       "      <td>-4.236069</td>\n",
       "      <td>-4.014057</td>\n",
       "    </tr>\n",
       "  </tbody>\n",
       "</table>\n",
       "</div>"
      ],
      "text/plain": [
       "       type    amount  oldbalanceOrg  newbalanceOrig  oldbalanceDest  \\\n",
       "0   PAYMENT   9839.64       170136.0       160296.36             0.0   \n",
       "1   PAYMENT   1864.28        21249.0        19384.72             0.0   \n",
       "2  TRANSFER    181.00          181.0            0.00             0.0   \n",
       "3  CASH_OUT    181.00          181.0            0.00         21182.0   \n",
       "4   PAYMENT  11668.14        41554.0        29885.86             0.0   \n",
       "\n",
       "   newbalanceDest  isFraud  isFlaggedFraud  box_amount  box_oldbalanceOrg  \\\n",
       "0             0.0        0               0   16.100764          16.813203   \n",
       "1             0.0        0               0   11.839701          13.099428   \n",
       "2             0.0        1               0    7.060007           5.979102   \n",
       "3             0.0        1               0    7.060007           5.979102   \n",
       "4             0.0        0               0   16.584003          14.252640   \n",
       "\n",
       "   box_newbalanceOrig  box_oldbalanceDest  box_newbalanceDest  \n",
       "0            8.782110           -4.236069           -4.014057  \n",
       "1            7.621837           -4.236069           -4.014057  \n",
       "2           -5.239437           -4.236069           -4.014057  \n",
       "3           -5.239437           12.031806           -4.014057  \n",
       "4            7.870681           -4.236069           -4.014057  "
      ]
     },
     "execution_count": 66,
     "metadata": {},
     "output_type": "execute_result"
    }
   ],
   "source": [
    "df.head()"
   ]
  },
  {
   "cell_type": "code",
   "execution_count": 67,
   "id": "a71646ad",
   "metadata": {},
   "outputs": [],
   "source": [
    "df1=df[[\"type\",\"box_amount\",\"box_oldbalanceOrg\",\"box_newbalanceOrig\",\"box_oldbalanceDest\",\"box_newbalanceDest\",\"isFraud\",\"isFlaggedFraud\"]]"
   ]
  },
  {
   "cell_type": "code",
   "execution_count": 68,
   "id": "bdbb1f1d",
   "metadata": {},
   "outputs": [
    {
     "data": {
      "text/html": [
       "<div>\n",
       "<style scoped>\n",
       "    .dataframe tbody tr th:only-of-type {\n",
       "        vertical-align: middle;\n",
       "    }\n",
       "\n",
       "    .dataframe tbody tr th {\n",
       "        vertical-align: top;\n",
       "    }\n",
       "\n",
       "    .dataframe thead th {\n",
       "        text-align: right;\n",
       "    }\n",
       "</style>\n",
       "<table border=\"1\" class=\"dataframe\">\n",
       "  <thead>\n",
       "    <tr style=\"text-align: right;\">\n",
       "      <th></th>\n",
       "      <th>type</th>\n",
       "      <th>box_amount</th>\n",
       "      <th>box_oldbalanceOrg</th>\n",
       "      <th>box_newbalanceOrig</th>\n",
       "      <th>box_oldbalanceDest</th>\n",
       "      <th>box_newbalanceDest</th>\n",
       "      <th>isFraud</th>\n",
       "      <th>isFlaggedFraud</th>\n",
       "    </tr>\n",
       "  </thead>\n",
       "  <tbody>\n",
       "    <tr>\n",
       "      <th>0</th>\n",
       "      <td>PAYMENT</td>\n",
       "      <td>16.100764</td>\n",
       "      <td>16.813203</td>\n",
       "      <td>8.782110</td>\n",
       "      <td>-4.236069</td>\n",
       "      <td>-4.014057</td>\n",
       "      <td>0</td>\n",
       "      <td>0</td>\n",
       "    </tr>\n",
       "    <tr>\n",
       "      <th>1</th>\n",
       "      <td>PAYMENT</td>\n",
       "      <td>11.839701</td>\n",
       "      <td>13.099428</td>\n",
       "      <td>7.621837</td>\n",
       "      <td>-4.236069</td>\n",
       "      <td>-4.014057</td>\n",
       "      <td>0</td>\n",
       "      <td>0</td>\n",
       "    </tr>\n",
       "    <tr>\n",
       "      <th>2</th>\n",
       "      <td>TRANSFER</td>\n",
       "      <td>7.060007</td>\n",
       "      <td>5.979102</td>\n",
       "      <td>-5.239437</td>\n",
       "      <td>-4.236069</td>\n",
       "      <td>-4.014057</td>\n",
       "      <td>1</td>\n",
       "      <td>0</td>\n",
       "    </tr>\n",
       "    <tr>\n",
       "      <th>3</th>\n",
       "      <td>CASH_OUT</td>\n",
       "      <td>7.060007</td>\n",
       "      <td>5.979102</td>\n",
       "      <td>-5.239437</td>\n",
       "      <td>12.031806</td>\n",
       "      <td>-4.014057</td>\n",
       "      <td>1</td>\n",
       "      <td>0</td>\n",
       "    </tr>\n",
       "    <tr>\n",
       "      <th>4</th>\n",
       "      <td>PAYMENT</td>\n",
       "      <td>16.584003</td>\n",
       "      <td>14.252640</td>\n",
       "      <td>7.870681</td>\n",
       "      <td>-4.236069</td>\n",
       "      <td>-4.014057</td>\n",
       "      <td>0</td>\n",
       "      <td>0</td>\n",
       "    </tr>\n",
       "  </tbody>\n",
       "</table>\n",
       "</div>"
      ],
      "text/plain": [
       "       type  box_amount  box_oldbalanceOrg  box_newbalanceOrig  \\\n",
       "0   PAYMENT   16.100764          16.813203            8.782110   \n",
       "1   PAYMENT   11.839701          13.099428            7.621837   \n",
       "2  TRANSFER    7.060007           5.979102           -5.239437   \n",
       "3  CASH_OUT    7.060007           5.979102           -5.239437   \n",
       "4   PAYMENT   16.584003          14.252640            7.870681   \n",
       "\n",
       "   box_oldbalanceDest  box_newbalanceDest  isFraud  isFlaggedFraud  \n",
       "0           -4.236069           -4.014057        0               0  \n",
       "1           -4.236069           -4.014057        0               0  \n",
       "2           -4.236069           -4.014057        1               0  \n",
       "3           12.031806           -4.014057        1               0  \n",
       "4           -4.236069           -4.014057        0               0  "
      ]
     },
     "execution_count": 68,
     "metadata": {},
     "output_type": "execute_result"
    }
   ],
   "source": [
    "df1.head()"
   ]
  },
  {
   "cell_type": "code",
   "execution_count": 69,
   "id": "28cbebaf",
   "metadata": {},
   "outputs": [],
   "source": [
    "#encoding type\n",
    "from sklearn.preprocessing import LabelEncoder\n",
    "le=LabelEncoder()\n",
    "df1[\"type_l\"]=le.fit_transform(df1[[\"type\"]])"
   ]
  },
  {
   "cell_type": "code",
   "execution_count": 70,
   "id": "997f12b3",
   "metadata": {},
   "outputs": [
    {
     "data": {
      "text/html": [
       "<div>\n",
       "<style scoped>\n",
       "    .dataframe tbody tr th:only-of-type {\n",
       "        vertical-align: middle;\n",
       "    }\n",
       "\n",
       "    .dataframe tbody tr th {\n",
       "        vertical-align: top;\n",
       "    }\n",
       "\n",
       "    .dataframe thead th {\n",
       "        text-align: right;\n",
       "    }\n",
       "</style>\n",
       "<table border=\"1\" class=\"dataframe\">\n",
       "  <thead>\n",
       "    <tr style=\"text-align: right;\">\n",
       "      <th></th>\n",
       "      <th>type</th>\n",
       "      <th>box_amount</th>\n",
       "      <th>box_oldbalanceOrg</th>\n",
       "      <th>box_newbalanceOrig</th>\n",
       "      <th>box_oldbalanceDest</th>\n",
       "      <th>box_newbalanceDest</th>\n",
       "      <th>isFraud</th>\n",
       "      <th>isFlaggedFraud</th>\n",
       "      <th>type_l</th>\n",
       "    </tr>\n",
       "  </thead>\n",
       "  <tbody>\n",
       "    <tr>\n",
       "      <th>0</th>\n",
       "      <td>PAYMENT</td>\n",
       "      <td>16.100764</td>\n",
       "      <td>16.813203</td>\n",
       "      <td>8.782110</td>\n",
       "      <td>-4.236069</td>\n",
       "      <td>-4.014057</td>\n",
       "      <td>0</td>\n",
       "      <td>0</td>\n",
       "      <td>3</td>\n",
       "    </tr>\n",
       "    <tr>\n",
       "      <th>1</th>\n",
       "      <td>PAYMENT</td>\n",
       "      <td>11.839701</td>\n",
       "      <td>13.099428</td>\n",
       "      <td>7.621837</td>\n",
       "      <td>-4.236069</td>\n",
       "      <td>-4.014057</td>\n",
       "      <td>0</td>\n",
       "      <td>0</td>\n",
       "      <td>3</td>\n",
       "    </tr>\n",
       "    <tr>\n",
       "      <th>2</th>\n",
       "      <td>TRANSFER</td>\n",
       "      <td>7.060007</td>\n",
       "      <td>5.979102</td>\n",
       "      <td>-5.239437</td>\n",
       "      <td>-4.236069</td>\n",
       "      <td>-4.014057</td>\n",
       "      <td>1</td>\n",
       "      <td>0</td>\n",
       "      <td>4</td>\n",
       "    </tr>\n",
       "    <tr>\n",
       "      <th>3</th>\n",
       "      <td>CASH_OUT</td>\n",
       "      <td>7.060007</td>\n",
       "      <td>5.979102</td>\n",
       "      <td>-5.239437</td>\n",
       "      <td>12.031806</td>\n",
       "      <td>-4.014057</td>\n",
       "      <td>1</td>\n",
       "      <td>0</td>\n",
       "      <td>1</td>\n",
       "    </tr>\n",
       "    <tr>\n",
       "      <th>4</th>\n",
       "      <td>PAYMENT</td>\n",
       "      <td>16.584003</td>\n",
       "      <td>14.252640</td>\n",
       "      <td>7.870681</td>\n",
       "      <td>-4.236069</td>\n",
       "      <td>-4.014057</td>\n",
       "      <td>0</td>\n",
       "      <td>0</td>\n",
       "      <td>3</td>\n",
       "    </tr>\n",
       "  </tbody>\n",
       "</table>\n",
       "</div>"
      ],
      "text/plain": [
       "       type  box_amount  box_oldbalanceOrg  box_newbalanceOrig  \\\n",
       "0   PAYMENT   16.100764          16.813203            8.782110   \n",
       "1   PAYMENT   11.839701          13.099428            7.621837   \n",
       "2  TRANSFER    7.060007           5.979102           -5.239437   \n",
       "3  CASH_OUT    7.060007           5.979102           -5.239437   \n",
       "4   PAYMENT   16.584003          14.252640            7.870681   \n",
       "\n",
       "   box_oldbalanceDest  box_newbalanceDest  isFraud  isFlaggedFraud  type_l  \n",
       "0           -4.236069           -4.014057        0               0       3  \n",
       "1           -4.236069           -4.014057        0               0       3  \n",
       "2           -4.236069           -4.014057        1               0       4  \n",
       "3           12.031806           -4.014057        1               0       1  \n",
       "4           -4.236069           -4.014057        0               0       3  "
      ]
     },
     "execution_count": 70,
     "metadata": {},
     "output_type": "execute_result"
    }
   ],
   "source": [
    "df1.head()"
   ]
  },
  {
   "cell_type": "code",
   "execution_count": 71,
   "id": "cea99867",
   "metadata": {},
   "outputs": [],
   "source": [
    "df1.drop(columns=[\"type\"],inplace=True)"
   ]
  },
  {
   "cell_type": "code",
   "execution_count": 72,
   "id": "23134bdc",
   "metadata": {},
   "outputs": [
    {
     "data": {
      "text/html": [
       "<div>\n",
       "<style scoped>\n",
       "    .dataframe tbody tr th:only-of-type {\n",
       "        vertical-align: middle;\n",
       "    }\n",
       "\n",
       "    .dataframe tbody tr th {\n",
       "        vertical-align: top;\n",
       "    }\n",
       "\n",
       "    .dataframe thead th {\n",
       "        text-align: right;\n",
       "    }\n",
       "</style>\n",
       "<table border=\"1\" class=\"dataframe\">\n",
       "  <thead>\n",
       "    <tr style=\"text-align: right;\">\n",
       "      <th></th>\n",
       "      <th>box_amount</th>\n",
       "      <th>box_oldbalanceOrg</th>\n",
       "      <th>box_newbalanceOrig</th>\n",
       "      <th>box_oldbalanceDest</th>\n",
       "      <th>box_newbalanceDest</th>\n",
       "      <th>isFraud</th>\n",
       "      <th>isFlaggedFraud</th>\n",
       "      <th>type_l</th>\n",
       "    </tr>\n",
       "  </thead>\n",
       "  <tbody>\n",
       "    <tr>\n",
       "      <th>0</th>\n",
       "      <td>16.100764</td>\n",
       "      <td>16.813203</td>\n",
       "      <td>8.782110</td>\n",
       "      <td>-4.236069</td>\n",
       "      <td>-4.014057</td>\n",
       "      <td>0</td>\n",
       "      <td>0</td>\n",
       "      <td>3</td>\n",
       "    </tr>\n",
       "    <tr>\n",
       "      <th>1</th>\n",
       "      <td>11.839701</td>\n",
       "      <td>13.099428</td>\n",
       "      <td>7.621837</td>\n",
       "      <td>-4.236069</td>\n",
       "      <td>-4.014057</td>\n",
       "      <td>0</td>\n",
       "      <td>0</td>\n",
       "      <td>3</td>\n",
       "    </tr>\n",
       "    <tr>\n",
       "      <th>2</th>\n",
       "      <td>7.060007</td>\n",
       "      <td>5.979102</td>\n",
       "      <td>-5.239437</td>\n",
       "      <td>-4.236069</td>\n",
       "      <td>-4.014057</td>\n",
       "      <td>1</td>\n",
       "      <td>0</td>\n",
       "      <td>4</td>\n",
       "    </tr>\n",
       "    <tr>\n",
       "      <th>3</th>\n",
       "      <td>7.060007</td>\n",
       "      <td>5.979102</td>\n",
       "      <td>-5.239437</td>\n",
       "      <td>12.031806</td>\n",
       "      <td>-4.014057</td>\n",
       "      <td>1</td>\n",
       "      <td>0</td>\n",
       "      <td>1</td>\n",
       "    </tr>\n",
       "    <tr>\n",
       "      <th>4</th>\n",
       "      <td>16.584003</td>\n",
       "      <td>14.252640</td>\n",
       "      <td>7.870681</td>\n",
       "      <td>-4.236069</td>\n",
       "      <td>-4.014057</td>\n",
       "      <td>0</td>\n",
       "      <td>0</td>\n",
       "      <td>3</td>\n",
       "    </tr>\n",
       "  </tbody>\n",
       "</table>\n",
       "</div>"
      ],
      "text/plain": [
       "   box_amount  box_oldbalanceOrg  box_newbalanceOrig  box_oldbalanceDest  \\\n",
       "0   16.100764          16.813203            8.782110           -4.236069   \n",
       "1   11.839701          13.099428            7.621837           -4.236069   \n",
       "2    7.060007           5.979102           -5.239437           -4.236069   \n",
       "3    7.060007           5.979102           -5.239437           12.031806   \n",
       "4   16.584003          14.252640            7.870681           -4.236069   \n",
       "\n",
       "   box_newbalanceDest  isFraud  isFlaggedFraud  type_l  \n",
       "0           -4.014057        0               0       3  \n",
       "1           -4.014057        0               0       3  \n",
       "2           -4.014057        1               0       4  \n",
       "3           -4.014057        1               0       1  \n",
       "4           -4.014057        0               0       3  "
      ]
     },
     "execution_count": 72,
     "metadata": {},
     "output_type": "execute_result"
    }
   ],
   "source": [
    "df1.head()"
   ]
  },
  {
   "cell_type": "code",
   "execution_count": 73,
   "id": "5c60105d",
   "metadata": {},
   "outputs": [
    {
     "data": {
      "text/html": [
       "<div>\n",
       "<style scoped>\n",
       "    .dataframe tbody tr th:only-of-type {\n",
       "        vertical-align: middle;\n",
       "    }\n",
       "\n",
       "    .dataframe tbody tr th {\n",
       "        vertical-align: top;\n",
       "    }\n",
       "\n",
       "    .dataframe thead th {\n",
       "        text-align: right;\n",
       "    }\n",
       "</style>\n",
       "<table border=\"1\" class=\"dataframe\">\n",
       "  <thead>\n",
       "    <tr style=\"text-align: right;\">\n",
       "      <th></th>\n",
       "      <th>box_amount</th>\n",
       "      <th>box_oldbalanceOrg</th>\n",
       "      <th>box_newbalanceOrig</th>\n",
       "      <th>box_oldbalanceDest</th>\n",
       "      <th>box_newbalanceDest</th>\n",
       "      <th>isFraud</th>\n",
       "      <th>isFlaggedFraud</th>\n",
       "      <th>type_l</th>\n",
       "    </tr>\n",
       "  </thead>\n",
       "  <tbody>\n",
       "    <tr>\n",
       "      <th>box_amount</th>\n",
       "      <td>1.000000</td>\n",
       "      <td>0.037840</td>\n",
       "      <td>-0.166642</td>\n",
       "      <td>0.610713</td>\n",
       "      <td>0.688687</td>\n",
       "      <td>0.048431</td>\n",
       "      <td>0.004646</td>\n",
       "      <td>-0.339704</td>\n",
       "    </tr>\n",
       "    <tr>\n",
       "      <th>box_oldbalanceOrg</th>\n",
       "      <td>0.037840</td>\n",
       "      <td>1.000000</td>\n",
       "      <td>0.742344</td>\n",
       "      <td>0.018322</td>\n",
       "      <td>0.029077</td>\n",
       "      <td>0.034589</td>\n",
       "      <td>0.002333</td>\n",
       "      <td>-0.326666</td>\n",
       "    </tr>\n",
       "    <tr>\n",
       "      <th>box_newbalanceOrig</th>\n",
       "      <td>-0.166642</td>\n",
       "      <td>0.742344</td>\n",
       "      <td>1.000000</td>\n",
       "      <td>-0.030021</td>\n",
       "      <td>-0.157202</td>\n",
       "      <td>-0.029650</td>\n",
       "      <td>0.002127</td>\n",
       "      <td>-0.321533</td>\n",
       "    </tr>\n",
       "    <tr>\n",
       "      <th>box_oldbalanceDest</th>\n",
       "      <td>0.610713</td>\n",
       "      <td>0.018322</td>\n",
       "      <td>-0.030021</td>\n",
       "      <td>1.000000</td>\n",
       "      <td>0.881880</td>\n",
       "      <td>-0.017257</td>\n",
       "      <td>-0.001815</td>\n",
       "      <td>-0.545224</td>\n",
       "    </tr>\n",
       "    <tr>\n",
       "      <th>box_newbalanceDest</th>\n",
       "      <td>0.688687</td>\n",
       "      <td>0.029077</td>\n",
       "      <td>-0.157202</td>\n",
       "      <td>0.881880</td>\n",
       "      <td>1.000000</td>\n",
       "      <td>-0.007412</td>\n",
       "      <td>-0.001965</td>\n",
       "      <td>-0.506874</td>\n",
       "    </tr>\n",
       "    <tr>\n",
       "      <th>isFraud</th>\n",
       "      <td>0.048431</td>\n",
       "      <td>0.034589</td>\n",
       "      <td>-0.029650</td>\n",
       "      <td>-0.017257</td>\n",
       "      <td>-0.007412</td>\n",
       "      <td>1.000000</td>\n",
       "      <td>0.044109</td>\n",
       "      <td>0.020833</td>\n",
       "    </tr>\n",
       "    <tr>\n",
       "      <th>isFlaggedFraud</th>\n",
       "      <td>0.004646</td>\n",
       "      <td>0.002333</td>\n",
       "      <td>0.002127</td>\n",
       "      <td>-0.001815</td>\n",
       "      <td>-0.001965</td>\n",
       "      <td>0.044109</td>\n",
       "      <td>1.000000</td>\n",
       "      <td>0.002685</td>\n",
       "    </tr>\n",
       "    <tr>\n",
       "      <th>type_l</th>\n",
       "      <td>-0.339704</td>\n",
       "      <td>-0.326666</td>\n",
       "      <td>-0.321533</td>\n",
       "      <td>-0.545224</td>\n",
       "      <td>-0.506874</td>\n",
       "      <td>0.020833</td>\n",
       "      <td>0.002685</td>\n",
       "      <td>1.000000</td>\n",
       "    </tr>\n",
       "  </tbody>\n",
       "</table>\n",
       "</div>"
      ],
      "text/plain": [
       "                    box_amount  box_oldbalanceOrg  box_newbalanceOrig  \\\n",
       "box_amount            1.000000           0.037840           -0.166642   \n",
       "box_oldbalanceOrg     0.037840           1.000000            0.742344   \n",
       "box_newbalanceOrig   -0.166642           0.742344            1.000000   \n",
       "box_oldbalanceDest    0.610713           0.018322           -0.030021   \n",
       "box_newbalanceDest    0.688687           0.029077           -0.157202   \n",
       "isFraud               0.048431           0.034589           -0.029650   \n",
       "isFlaggedFraud        0.004646           0.002333            0.002127   \n",
       "type_l               -0.339704          -0.326666           -0.321533   \n",
       "\n",
       "                    box_oldbalanceDest  box_newbalanceDest   isFraud  \\\n",
       "box_amount                    0.610713            0.688687  0.048431   \n",
       "box_oldbalanceOrg             0.018322            0.029077  0.034589   \n",
       "box_newbalanceOrig           -0.030021           -0.157202 -0.029650   \n",
       "box_oldbalanceDest            1.000000            0.881880 -0.017257   \n",
       "box_newbalanceDest            0.881880            1.000000 -0.007412   \n",
       "isFraud                      -0.017257           -0.007412  1.000000   \n",
       "isFlaggedFraud               -0.001815           -0.001965  0.044109   \n",
       "type_l                       -0.545224           -0.506874  0.020833   \n",
       "\n",
       "                    isFlaggedFraud    type_l  \n",
       "box_amount                0.004646 -0.339704  \n",
       "box_oldbalanceOrg         0.002333 -0.326666  \n",
       "box_newbalanceOrig        0.002127 -0.321533  \n",
       "box_oldbalanceDest       -0.001815 -0.545224  \n",
       "box_newbalanceDest       -0.001965 -0.506874  \n",
       "isFraud                   0.044109  0.020833  \n",
       "isFlaggedFraud            1.000000  0.002685  \n",
       "type_l                    0.002685  1.000000  "
      ]
     },
     "execution_count": 73,
     "metadata": {},
     "output_type": "execute_result"
    }
   ],
   "source": [
    "df1.corr()"
   ]
  },
  {
   "cell_type": "code",
   "execution_count": 80,
   "id": "7794091d",
   "metadata": {},
   "outputs": [
    {
     "data": {
      "text/html": [
       "<div>\n",
       "<style scoped>\n",
       "    .dataframe tbody tr th:only-of-type {\n",
       "        vertical-align: middle;\n",
       "    }\n",
       "\n",
       "    .dataframe tbody tr th {\n",
       "        vertical-align: top;\n",
       "    }\n",
       "\n",
       "    .dataframe thead th {\n",
       "        text-align: right;\n",
       "    }\n",
       "</style>\n",
       "<table border=\"1\" class=\"dataframe\">\n",
       "  <thead>\n",
       "    <tr style=\"text-align: right;\">\n",
       "      <th></th>\n",
       "      <th>Variables</th>\n",
       "      <th>VIF</th>\n",
       "    </tr>\n",
       "  </thead>\n",
       "  <tbody>\n",
       "    <tr>\n",
       "      <th>0</th>\n",
       "      <td>box_amount</td>\n",
       "      <td>1.959766</td>\n",
       "    </tr>\n",
       "    <tr>\n",
       "      <th>1</th>\n",
       "      <td>box_oldbalanceOrg</td>\n",
       "      <td>2.634177</td>\n",
       "    </tr>\n",
       "    <tr>\n",
       "      <th>2</th>\n",
       "      <td>box_newbalanceOrig</td>\n",
       "      <td>2.872853</td>\n",
       "    </tr>\n",
       "    <tr>\n",
       "      <th>3</th>\n",
       "      <td>box_oldbalanceDest</td>\n",
       "      <td>5.263859</td>\n",
       "    </tr>\n",
       "    <tr>\n",
       "      <th>4</th>\n",
       "      <td>box_newbalanceDest</td>\n",
       "      <td>6.197258</td>\n",
       "    </tr>\n",
       "  </tbody>\n",
       "</table>\n",
       "</div>"
      ],
      "text/plain": [
       "            Variables       VIF\n",
       "0          box_amount  1.959766\n",
       "1   box_oldbalanceOrg  2.634177\n",
       "2  box_newbalanceOrig  2.872853\n",
       "3  box_oldbalanceDest  5.263859\n",
       "4  box_newbalanceDest  6.197258"
      ]
     },
     "execution_count": 80,
     "metadata": {},
     "output_type": "execute_result"
    }
   ],
   "source": [
    "#calicating the vif values\n",
    "import statsmodels.formula.api as smf\n",
    "rsq_box_amount=smf.ols(\"box_amount~box_oldbalanceOrg+box_newbalanceOrig+box_oldbalanceDest+box_newbalanceDest\",data=df1).fit().rsquared\n",
    "vif_box_amount=1/(1-rsq_box_amount)\n",
    "\n",
    "rsq_box_oldbalanceOrg=smf.ols(\"box_oldbalanceOrg~box_amount+box_newbalanceOrig+box_oldbalanceDest+box_newbalanceDest\",data=df1).fit().rsquared\n",
    "vif_box_oldbalanceOrg=1/(1-rsq_box_oldbalanceOrg)\n",
    "\n",
    "rsq_box_newbalanceOrig=smf.ols(\"box_newbalanceOrig~box_amount+box_oldbalanceOrg+box_oldbalanceDest+box_newbalanceDest\",data=df1).fit().rsquared\n",
    "vif_box_newbalanceOrig=1/(1-rsq_box_newbalanceOrig)\n",
    "\n",
    "rsq_box_oldbalanceDest=smf.ols(\"box_oldbalanceDest~box_amount+box_oldbalanceOrg+box_newbalanceOrig+box_newbalanceDest\",data=df1).fit().rsquared\n",
    "vif_box_oldbalanceDest=1/(1-rsq_box_oldbalanceDest)\n",
    "\n",
    "rsq_box_newbalanceDest=smf.ols(\"box_newbalanceDest~box_amount+box_oldbalanceOrg+box_oldbalanceDest+box_newbalanceOrig\",data=df1).fit().rsquared\n",
    "vif_box_newbalanceDest=1/(1-rsq_box_newbalanceDest)\n",
    "\n",
    "\n",
    "\n",
    "#storing vif values \n",
    "d1={\"Variables\":[\"box_amount\",\"box_oldbalanceOrg\",\"box_newbalanceOrig\",\"box_oldbalanceDest\",\"box_newbalanceDest\"],\n",
    "        \"VIF\":[vif_box_amount,vif_box_oldbalanceOrg,vif_box_newbalanceOrig,vif_box_oldbalanceDest,vif_box_newbalanceDest]}\n",
    "Vif_frame=pd.DataFrame(d1)\n",
    "Vif_frame"
   ]
  },
  {
   "cell_type": "code",
   "execution_count": 81,
   "id": "491d1f99",
   "metadata": {},
   "outputs": [],
   "source": [
    "df1.drop(columns=[\"box_oldbalanceDest\",\"box_newbalanceDest\"],inplace=True)"
   ]
  },
  {
   "cell_type": "code",
   "execution_count": 82,
   "id": "8f09ac0e",
   "metadata": {},
   "outputs": [
    {
     "data": {
      "text/html": [
       "<div>\n",
       "<style scoped>\n",
       "    .dataframe tbody tr th:only-of-type {\n",
       "        vertical-align: middle;\n",
       "    }\n",
       "\n",
       "    .dataframe tbody tr th {\n",
       "        vertical-align: top;\n",
       "    }\n",
       "\n",
       "    .dataframe thead th {\n",
       "        text-align: right;\n",
       "    }\n",
       "</style>\n",
       "<table border=\"1\" class=\"dataframe\">\n",
       "  <thead>\n",
       "    <tr style=\"text-align: right;\">\n",
       "      <th></th>\n",
       "      <th>box_amount</th>\n",
       "      <th>box_oldbalanceOrg</th>\n",
       "      <th>box_newbalanceOrig</th>\n",
       "      <th>isFraud</th>\n",
       "      <th>isFlaggedFraud</th>\n",
       "      <th>type_l</th>\n",
       "    </tr>\n",
       "  </thead>\n",
       "  <tbody>\n",
       "    <tr>\n",
       "      <th>0</th>\n",
       "      <td>16.100764</td>\n",
       "      <td>16.813203</td>\n",
       "      <td>8.782110</td>\n",
       "      <td>0</td>\n",
       "      <td>0</td>\n",
       "      <td>3</td>\n",
       "    </tr>\n",
       "    <tr>\n",
       "      <th>1</th>\n",
       "      <td>11.839701</td>\n",
       "      <td>13.099428</td>\n",
       "      <td>7.621837</td>\n",
       "      <td>0</td>\n",
       "      <td>0</td>\n",
       "      <td>3</td>\n",
       "    </tr>\n",
       "    <tr>\n",
       "      <th>2</th>\n",
       "      <td>7.060007</td>\n",
       "      <td>5.979102</td>\n",
       "      <td>-5.239437</td>\n",
       "      <td>1</td>\n",
       "      <td>0</td>\n",
       "      <td>4</td>\n",
       "    </tr>\n",
       "    <tr>\n",
       "      <th>3</th>\n",
       "      <td>7.060007</td>\n",
       "      <td>5.979102</td>\n",
       "      <td>-5.239437</td>\n",
       "      <td>1</td>\n",
       "      <td>0</td>\n",
       "      <td>1</td>\n",
       "    </tr>\n",
       "    <tr>\n",
       "      <th>4</th>\n",
       "      <td>16.584003</td>\n",
       "      <td>14.252640</td>\n",
       "      <td>7.870681</td>\n",
       "      <td>0</td>\n",
       "      <td>0</td>\n",
       "      <td>3</td>\n",
       "    </tr>\n",
       "  </tbody>\n",
       "</table>\n",
       "</div>"
      ],
      "text/plain": [
       "   box_amount  box_oldbalanceOrg  box_newbalanceOrig  isFraud  isFlaggedFraud  \\\n",
       "0   16.100764          16.813203            8.782110        0               0   \n",
       "1   11.839701          13.099428            7.621837        0               0   \n",
       "2    7.060007           5.979102           -5.239437        1               0   \n",
       "3    7.060007           5.979102           -5.239437        1               0   \n",
       "4   16.584003          14.252640            7.870681        0               0   \n",
       "\n",
       "   type_l  \n",
       "0       3  \n",
       "1       3  \n",
       "2       4  \n",
       "3       1  \n",
       "4       3  "
      ]
     },
     "execution_count": 82,
     "metadata": {},
     "output_type": "execute_result"
    }
   ],
   "source": [
    "df1.head()"
   ]
  },
  {
   "cell_type": "code",
   "execution_count": 84,
   "id": "e44d743f",
   "metadata": {},
   "outputs": [
    {
     "data": {
      "text/plain": [
       "0    6354407\n",
       "1       8213\n",
       "Name: isFraud, dtype: int64"
      ]
     },
     "execution_count": 84,
     "metadata": {},
     "output_type": "execute_result"
    }
   ],
   "source": [
    "df[\"isFraud\"].value_counts()"
   ]
  },
  {
   "cell_type": "code",
   "execution_count": 88,
   "id": "c4a5b43f",
   "metadata": {},
   "outputs": [
    {
     "name": "stdout",
     "output_type": "stream",
     "text": [
      "Requirement already satisfied: imblearn in c:\\users\\vijay\\anaconda3\\lib\\site-packages (0.0)\n",
      "Requirement already satisfied: imbalanced-learn in c:\\users\\vijay\\anaconda3\\lib\\site-packages (from imblearn) (0.10.1)\n",
      "Requirement already satisfied: scikit-learn>=1.0.2 in c:\\users\\vijay\\anaconda3\\lib\\site-packages (from imbalanced-learn->imblearn) (1.0.2)\n",
      "Requirement already satisfied: joblib>=1.1.1 in c:\\users\\vijay\\anaconda3\\lib\\site-packages (from imbalanced-learn->imblearn) (1.2.0)\n",
      "Requirement already satisfied: numpy>=1.17.3 in c:\\users\\vijay\\anaconda3\\lib\\site-packages (from imbalanced-learn->imblearn) (1.21.5)\n",
      "Requirement already satisfied: threadpoolctl>=2.0.0 in c:\\users\\vijay\\anaconda3\\lib\\site-packages (from imbalanced-learn->imblearn) (2.2.0)\n",
      "Requirement already satisfied: scipy>=1.3.2 in c:\\users\\vijay\\anaconda3\\lib\\site-packages (from imbalanced-learn->imblearn) (1.9.1)\n"
     ]
    }
   ],
   "source": [
    "!pip install imblearn"
   ]
  },
  {
   "cell_type": "code",
   "execution_count": 85,
   "id": "955155d9",
   "metadata": {},
   "outputs": [],
   "source": [
    "X=df1.drop(columns=[\"isFraud\"])\n",
    "y=df1[\"isFraud\"]"
   ]
  },
  {
   "cell_type": "code",
   "execution_count": 91,
   "id": "5eade43c",
   "metadata": {},
   "outputs": [
    {
     "data": {
      "text/plain": [
       "0    6354407\n",
       "1    6354407\n",
       "Name: isFraud, dtype: int64"
      ]
     },
     "execution_count": 91,
     "metadata": {},
     "output_type": "execute_result"
    }
   ],
   "source": [
    "#balancing the imbalance data set\n",
    "from imblearn.over_sampling import SMOTE\n",
    "SMOTE=SMOTE()\n",
    "X_new,y_new=SMOTE.fit_resample(X,y)\n",
    "y_new.value_counts()"
   ]
  },
  {
   "cell_type": "code",
   "execution_count": 92,
   "id": "5b01d6a1",
   "metadata": {},
   "outputs": [],
   "source": [
    "#train Test split\n",
    "from sklearn.model_selection import train_test_split\n",
    "X_train,X_test,y_train,y_test=train_test_split(X,y,test_size=0.2,random_state=9)"
   ]
  },
  {
   "cell_type": "code",
   "execution_count": 93,
   "id": "efdf524b",
   "metadata": {},
   "outputs": [],
   "source": [
    "#scaling\n",
    "from sklearn.preprocessing import StandardScaler\n",
    "ss=StandardScaler()\n",
    "X=ss.fit_transform(X)\n"
   ]
  },
  {
   "cell_type": "code",
   "execution_count": 94,
   "id": "0f5a39d6",
   "metadata": {},
   "outputs": [],
   "source": [
    "#pca:\n",
    "from sklearn.decomposition import PCA\n",
    "pca_model=PCA(n_components=0.95)\n",
    "\n",
    "X_train_pca=pca_model.fit_transform(X_train)\n",
    "X_test_pca=pca_model.fit_transform(X_test)"
   ]
  },
  {
   "cell_type": "code",
   "execution_count": 95,
   "id": "05536f12",
   "metadata": {},
   "outputs": [
    {
     "data": {
      "text/plain": [
       "array([0.71203767, 0.20340644, 0.07749088])"
      ]
     },
     "execution_count": 95,
     "metadata": {},
     "output_type": "execute_result"
    }
   ],
   "source": [
    "pca_model.explained_variance_ratio_"
   ]
  },
  {
   "cell_type": "code",
   "execution_count": 96,
   "id": "85efd223",
   "metadata": {},
   "outputs": [
    {
     "data": {
      "text/plain": [
       "(5090096, 3)"
      ]
     },
     "execution_count": 96,
     "metadata": {},
     "output_type": "execute_result"
    }
   ],
   "source": [
    "X_train_pca.shape"
   ]
  },
  {
   "cell_type": "code",
   "execution_count": 38,
   "id": "23bb27c6",
   "metadata": {},
   "outputs": [
    {
     "data": {
      "text/plain": [
       "array([[ 11.71566998, -13.9432332 ,  -5.5021177 ,  -3.72951367],\n",
       "       [ 11.69407661,  18.14933369,  -0.86980579,  -2.41064782],\n",
       "       [ 11.55723233,  -3.43576444,   2.84886965,  -0.59031359],\n",
       "       ...,\n",
       "       [ 11.05934282,   0.39626487,   5.64871763,  -0.54307921],\n",
       "       [  9.06174373, -14.03892621,  -3.15806128,  -0.57923464],\n",
       "       [-20.39829415, -14.72392878,  -1.00064185,   0.50164979]])"
      ]
     },
     "execution_count": 38,
     "metadata": {},
     "output_type": "execute_result"
    }
   ],
   "source": [
    "X_train_pca"
   ]
  },
  {
   "cell_type": "code",
   "execution_count": 39,
   "id": "8edfc17f",
   "metadata": {},
   "outputs": [],
   "source": [
    "a=pd.DataFrame(X_train_pca)"
   ]
  },
  {
   "cell_type": "code",
   "execution_count": 40,
   "id": "9ae6e63e",
   "metadata": {},
   "outputs": [
    {
     "data": {
      "text/html": [
       "<div>\n",
       "<style scoped>\n",
       "    .dataframe tbody tr th:only-of-type {\n",
       "        vertical-align: middle;\n",
       "    }\n",
       "\n",
       "    .dataframe tbody tr th {\n",
       "        vertical-align: top;\n",
       "    }\n",
       "\n",
       "    .dataframe thead th {\n",
       "        text-align: right;\n",
       "    }\n",
       "</style>\n",
       "<table border=\"1\" class=\"dataframe\">\n",
       "  <thead>\n",
       "    <tr style=\"text-align: right;\">\n",
       "      <th></th>\n",
       "      <th>0</th>\n",
       "      <th>1</th>\n",
       "      <th>2</th>\n",
       "      <th>3</th>\n",
       "    </tr>\n",
       "  </thead>\n",
       "  <tbody>\n",
       "    <tr>\n",
       "      <th>0</th>\n",
       "      <td>1.000000e+00</td>\n",
       "      <td>6.689592e-17</td>\n",
       "      <td>1.360812e-15</td>\n",
       "      <td>-1.495284e-16</td>\n",
       "    </tr>\n",
       "    <tr>\n",
       "      <th>1</th>\n",
       "      <td>6.689592e-17</td>\n",
       "      <td>1.000000e+00</td>\n",
       "      <td>-7.469152e-16</td>\n",
       "      <td>4.436918e-16</td>\n",
       "    </tr>\n",
       "    <tr>\n",
       "      <th>2</th>\n",
       "      <td>1.360812e-15</td>\n",
       "      <td>-7.469152e-16</td>\n",
       "      <td>1.000000e+00</td>\n",
       "      <td>-3.112470e-15</td>\n",
       "    </tr>\n",
       "    <tr>\n",
       "      <th>3</th>\n",
       "      <td>-1.495284e-16</td>\n",
       "      <td>4.436918e-16</td>\n",
       "      <td>-3.112470e-15</td>\n",
       "      <td>1.000000e+00</td>\n",
       "    </tr>\n",
       "  </tbody>\n",
       "</table>\n",
       "</div>"
      ],
      "text/plain": [
       "              0             1             2             3\n",
       "0  1.000000e+00  6.689592e-17  1.360812e-15 -1.495284e-16\n",
       "1  6.689592e-17  1.000000e+00 -7.469152e-16  4.436918e-16\n",
       "2  1.360812e-15 -7.469152e-16  1.000000e+00 -3.112470e-15\n",
       "3 -1.495284e-16  4.436918e-16 -3.112470e-15  1.000000e+00"
      ]
     },
     "execution_count": 40,
     "metadata": {},
     "output_type": "execute_result"
    }
   ],
   "source": [
    "a.corr()"
   ]
  },
  {
   "cell_type": "markdown",
   "id": "889b170c",
   "metadata": {},
   "source": [
    "# Modelling:"
   ]
  },
  {
   "cell_type": "code",
   "execution_count": 97,
   "id": "e2b9ac26",
   "metadata": {},
   "outputs": [
    {
     "name": "stdout",
     "output_type": "stream",
     "text": [
      "test_accuracy: 0.9991057143126574\n",
      "train_accuracy: 0.9991002134340885\n",
      "cross_validation_score: 0.9990750665606306\n"
     ]
    }
   ],
   "source": [
    "#logistic regression\n",
    "#modelling\n",
    "from sklearn.linear_model import LogisticRegression\n",
    "log_reg=LogisticRegression()\n",
    "log_reg.fit(X_train_pca,y_train)\n",
    "\n",
    "#prediction\n",
    "test_pred=log_reg.predict(X_test_pca)\n",
    "train_pred=log_reg.predict(X_train_pca)\n",
    "\n",
    "#accuracy\n",
    "from sklearn.metrics import accuracy_score\n",
    "print(\"test_accuracy:\",accuracy_score(y_test,test_pred))\n",
    "print(\"train_accuracy:\",accuracy_score(y_train,train_pred))\n",
    "\n",
    "#crossvalidation score:\n",
    "from sklearn.model_selection import cross_val_score\n",
    "print(\"cross_validation_score:\",cross_val_score(log_reg,X,y,cv=5).mean())"
   ]
  },
  {
   "cell_type": "code",
   "execution_count": 98,
   "id": "4cb29eb8",
   "metadata": {},
   "outputs": [
    {
     "data": {
      "text/plain": [
       "array([[1270858,      17],\n",
       "       [   1121,     528]], dtype=int64)"
      ]
     },
     "execution_count": 98,
     "metadata": {},
     "output_type": "execute_result"
    }
   ],
   "source": [
    "#confusion matrix\n",
    "from sklearn.metrics import confusion_matrix\n",
    "confusion_matrix(y_test,test_pred)"
   ]
  },
  {
   "cell_type": "code",
   "execution_count": 99,
   "id": "359949c8",
   "metadata": {},
   "outputs": [
    {
     "name": "stdout",
     "output_type": "stream",
     "text": [
      "              precision    recall  f1-score   support\n",
      "\n",
      "           0       1.00      1.00      1.00   1270875\n",
      "           1       0.97      0.32      0.48      1649\n",
      "\n",
      "    accuracy                           1.00   1272524\n",
      "   macro avg       0.98      0.66      0.74   1272524\n",
      "weighted avg       1.00      1.00      1.00   1272524\n",
      "\n"
     ]
    }
   ],
   "source": [
    "#classification report\n",
    "from sklearn.metrics import classification_report\n",
    "print(classification_report(y_test,test_pred))"
   ]
  },
  {
   "cell_type": "code",
   "execution_count": 100,
   "id": "a393834f",
   "metadata": {},
   "outputs": [
    {
     "data": {
      "image/png": "[encoded data removed]",
      "text/plain": [
       "<Figure size 640x480 with 1 Axes>"
      ]
     },
     "metadata": {},
     "output_type": "display_data"
    }
   ],
   "source": [
    "#auc\n",
    "from sklearn.metrics import plot_roc_curve\n",
    "plot_roc_curve(log_reg,X_test_pca,y_test)\n",
    "plt.show()\n"
   ]
  },
  {
   "cell_type": "raw",
   "id": "4f34030a",
   "metadata": {},
   "source": [
    " So, This is the best model for this bussiness problem. I have applied all other  classification algothrim on to it.All the algothrim have save accuracy. Thus  Logistic regression is chossenin order to minmize the time. "
   ]
  }
 ],
 "metadata": {
  "kernelspec": {
   "display_name": "Python 3 (ipykernel)",
   "language": "python",
   "name": "python3"
  },
  "language_info": {
   "codemirror_mode": {
    "name": "ipython",
    "version": 3
   },
   "file_extension": ".py",
   "mimetype": "text/x-python",
   "name": "python",
   "nbconvert_exporter": "python",
   "pygments_lexer": "ipython3",
   "version": "3.9.13"
  }
 },
 "nbformat": 4,
 "nbformat_minor": 5
}
